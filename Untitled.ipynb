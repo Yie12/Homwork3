{
  "nbformat": 4,
  "nbformat_minor": 0,
  "metadata": {
    "colab": {
      "provenance": []
    },
    "kernelspec": {
      "name": "python3",
      "display_name": "Python 3"
    },
    "language_info": {
      "name": "python"
    }
  },
  "cells": [
    {
      "cell_type": "code",
      "source": [
        "name = '陳怡潔'\n",
        "id = 'B1205055'\n",
        "me = [name,id]\n",
        "print(me)\n",
        "print(type(name),type(id))"
      ],
      "metadata": {
        "id": "VEcrfqwo9dsA",
        "outputId": "f4891fa7-f8db-4202-82c9-fae1e35de875",
        "colab": {
          "base_uri": "https://localhost:8080/"
        }
      },
      "execution_count": null,
      "outputs": [
        {
          "output_type": "stream",
          "name": "stdout",
          "text": [
            "['陳怡潔', 'B1205055']\n",
            "<class 'str'> <class 'str'>\n"
          ]
        }
      ]
    }
  ]
}