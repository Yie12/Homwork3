{
  "cells": [
    {
      "cell_type": "code",
      "source": [
        "num_str = input(\"請輸入數字:\" )\n",
        "num = int(num_str)\n",
        "for i in range(1,num + 1):\n",
        "  for j in range(1,num+ 1):\n",
        "    product = i * j\n",
        "    print(f\"{i} x {j} = {product}\")"
      ],
      "metadata": {
        "id": "QqQ_vphpBHhk",
        "outputId": "23405446-00d1-4e8a-a6ce-3067710fd4e8",
        "colab": {
          "base_uri": "https://localhost:8080/"
        }
      },
      "execution_count": 5,
      "outputs": [
        {
          "output_type": "stream",
          "name": "stdout",
          "text": [
            "請輸入數字:7\n",
            "1 x 1 = 1\n",
            "1 x 2 = 2\n",
            "1 x 3 = 3\n",
            "1 x 4 = 4\n",
            "1 x 5 = 5\n",
            "1 x 6 = 6\n",
            "1 x 7 = 7\n",
            "2 x 1 = 2\n",
            "2 x 2 = 4\n",
            "2 x 3 = 6\n",
            "2 x 4 = 8\n",
            "2 x 5 = 10\n",
            "2 x 6 = 12\n",
            "2 x 7 = 14\n",
            "3 x 1 = 3\n",
            "3 x 2 = 6\n",
            "3 x 3 = 9\n",
            "3 x 4 = 12\n",
            "3 x 5 = 15\n",
            "3 x 6 = 18\n",
            "3 x 7 = 21\n",
            "4 x 1 = 4\n",
            "4 x 2 = 8\n",
            "4 x 3 = 12\n",
            "4 x 4 = 16\n",
            "4 x 5 = 20\n",
            "4 x 6 = 24\n",
            "4 x 7 = 28\n",
            "5 x 1 = 5\n",
            "5 x 2 = 10\n",
            "5 x 3 = 15\n",
            "5 x 4 = 20\n",
            "5 x 5 = 25\n",
            "5 x 6 = 30\n",
            "5 x 7 = 35\n",
            "6 x 1 = 6\n",
            "6 x 2 = 12\n",
            "6 x 3 = 18\n",
            "6 x 4 = 24\n",
            "6 x 5 = 30\n",
            "6 x 6 = 36\n",
            "6 x 7 = 42\n",
            "7 x 1 = 7\n",
            "7 x 2 = 14\n",
            "7 x 3 = 21\n",
            "7 x 4 = 28\n",
            "7 x 5 = 35\n",
            "7 x 6 = 42\n",
            "7 x 7 = 49\n"
          ]
        }
      ]
    },
    {
      "cell_type": "code",
      "source": [
        "import random\n",
        "target_number = random.randint(1,100)\n",
        "\n",
        "\n",
        "print(\"歡迎參加猜數字遊戲\")\n",
        "\n",
        "while True:\n",
        "  b = int(input(\"please guess a number from 1 to 100\"))\n",
        "  if b > target_number:\n",
        "    print(\"too big\")\n",
        "  elif b < target_number:\n",
        "    print (\"too small\")\n",
        "  elif b == target_number:\n",
        "    print(\"congrats！you got it\")\n",
        "    break\n",
        "\n",
        "print(\"game over!\")\n"
      ],
      "metadata": {
        "id": "2f736-dqEDXE",
        "outputId": "e639d343-6a22-495d-ee54-bfc932217624",
        "colab": {
          "base_uri": "https://localhost:8080/"
        }
      },
      "execution_count": 6,
      "outputs": [
        {
          "output_type": "stream",
          "name": "stdout",
          "text": [
            "歡迎參加猜數字遊戲\n",
            "please guess a number from 1 to 10077\n",
            "too small\n",
            "please guess a number from 1 to 10088\n",
            "too small\n",
            "please guess a number from 1 to 10099\n",
            "too big\n",
            "please guess a number from 1 to 10092\n",
            "too small\n",
            "please guess a number from 1 to 10094\n",
            "too small\n",
            "please guess a number from 1 to 10098\n",
            "too big\n",
            "please guess a number from 1 to 10096\n",
            "too small\n",
            "please guess a number from 1 to 10097\n",
            "congrats！you got it\n",
            "game over!\n"
          ]
        }
      ]
    }
  ],
  "metadata": {
    "colab": {
      "name": "歡迎使用 Colaboratory",
      "toc_visible": true,
      "provenance": []
    },
    "kernelspec": {
      "display_name": "Python 3",
      "name": "python3"
    }
  },
  "nbformat": 4,
  "nbformat_minor": 0
}